{
  "nbformat": 4,
  "nbformat_minor": 0,
  "metadata": {
    "colab": {
      "provenance": [],
      "toc_visible": true
    },
    "kernelspec": {
      "name": "python3",
      "display_name": "Python 3"
    },
    "language_info": {
      "name": "python"
    }
  },
  "cells": [
    {
      "cell_type": "markdown",
      "source": [
        "# Homework 4: Extract PyRadiomics features from Rembrandt data"
      ],
      "metadata": {
        "id": "7-nZrwNNFlsy"
      }
    },
    {
      "cell_type": "code",
      "execution_count": 1,
      "metadata": {
        "colab": {
          "base_uri": "https://localhost:8080/"
        },
        "id": "5q3uLf_KD0JM",
        "outputId": "15406fdf-3c70-4dcf-9d3c-ed9532b267c0"
      },
      "outputs": [
        {
          "output_type": "stream",
          "name": "stdout",
          "text": [
            "Looking in indexes: https://pypi.org/simple, https://us-python.pkg.dev/colab-wheels/public/simple/\n",
            "Collecting pyradiomics\n",
            "  Downloading pyradiomics-3.0.1.tar.gz (34.5 MB)\n",
            "\u001b[2K     \u001b[90m━━━━━━━━━━━━━━━━━━━━━━━━━━━━━━━━━━━━━━━━\u001b[0m \u001b[32m34.5/34.5 MB\u001b[0m \u001b[31m54.9 MB/s\u001b[0m eta \u001b[36m0:00:00\u001b[0m\n",
            "\u001b[?25h  Preparing metadata (setup.py) ... \u001b[?25l\u001b[?25hdone\n",
            "Requirement already satisfied: numpy>=1.9.2 in /usr/local/lib/python3.9/dist-packages (from pyradiomics) (1.22.4)\n",
            "Collecting SimpleITK>=0.9.1\n",
            "  Downloading SimpleITK-2.2.1-cp39-cp39-manylinux_2_17_x86_64.manylinux2014_x86_64.whl (52.7 MB)\n",
            "\u001b[2K     \u001b[90m━━━━━━━━━━━━━━━━━━━━━━━━━━━━━━━━━━━━━━━━\u001b[0m \u001b[32m52.7/52.7 MB\u001b[0m \u001b[31m14.2 MB/s\u001b[0m eta \u001b[36m0:00:00\u001b[0m\n",
            "\u001b[?25hRequirement already satisfied: PyWavelets>=0.4.0 in /usr/local/lib/python3.9/dist-packages (from pyradiomics) (1.4.1)\n",
            "Collecting pykwalify>=1.6.0\n",
            "  Downloading pykwalify-1.8.0-py2.py3-none-any.whl (24 kB)\n",
            "Requirement already satisfied: six>=1.10.0 in /usr/local/lib/python3.9/dist-packages (from pyradiomics) (1.16.0)\n",
            "Requirement already satisfied: python-dateutil>=2.8.0 in /usr/local/lib/python3.9/dist-packages (from pykwalify>=1.6.0->pyradiomics) (2.8.2)\n",
            "Collecting ruamel.yaml>=0.16.0\n",
            "  Downloading ruamel.yaml-0.17.21-py3-none-any.whl (109 kB)\n",
            "\u001b[2K     \u001b[90m━━━━━━━━━━━━━━━━━━━━━━━━━━━━━━━━━━━━━━\u001b[0m \u001b[32m109.5/109.5 kB\u001b[0m \u001b[31m10.8 MB/s\u001b[0m eta \u001b[36m0:00:00\u001b[0m\n",
            "\u001b[?25hCollecting docopt>=0.6.2\n",
            "  Downloading docopt-0.6.2.tar.gz (25 kB)\n",
            "  Preparing metadata (setup.py) ... \u001b[?25l\u001b[?25hdone\n",
            "Collecting ruamel.yaml.clib>=0.2.6\n",
            "  Downloading ruamel.yaml.clib-0.2.7-cp39-cp39-manylinux_2_17_x86_64.manylinux2014_x86_64.manylinux_2_24_x86_64.whl (519 kB)\n",
            "\u001b[2K     \u001b[90m━━━━━━━━━━━━━━━━━━━━━━━━━━━━━━━━━━━━━━\u001b[0m \u001b[32m519.4/519.4 kB\u001b[0m \u001b[31m34.9 MB/s\u001b[0m eta \u001b[36m0:00:00\u001b[0m\n",
            "\u001b[?25hBuilding wheels for collected packages: pyradiomics, docopt\n",
            "  Building wheel for pyradiomics (setup.py) ... \u001b[?25l\u001b[?25hdone\n",
            "  Created wheel for pyradiomics: filename=pyradiomics-3.0.1-cp39-cp39-linux_x86_64.whl size=185783 sha256=f1bcfbfef98bdc1d1b2400431f232812bee455a8011d411e4cb2372a5fbd99be\n",
            "  Stored in directory: /root/.cache/pip/wheels/62/0f/06/e8bdcc276fc814981e11a2fc4da7ad0da0a7e68a60fe90e747\n",
            "  Building wheel for docopt (setup.py) ... \u001b[?25l\u001b[?25hdone\n",
            "  Created wheel for docopt: filename=docopt-0.6.2-py2.py3-none-any.whl size=13721 sha256=14034c0d08bbc8dca48a5f296c74c78d8e092da00f31fd76e3e980bfd2b4681b\n",
            "  Stored in directory: /root/.cache/pip/wheels/70/4a/46/1309fc853b8d395e60bafaf1b6df7845bdd82c95fd59dd8d2b\n",
            "Successfully built pyradiomics docopt\n",
            "Installing collected packages: SimpleITK, docopt, ruamel.yaml.clib, ruamel.yaml, pykwalify, pyradiomics\n",
            "Successfully installed SimpleITK-2.2.1 docopt-0.6.2 pykwalify-1.8.0 pyradiomics-3.0.1 ruamel.yaml-0.17.21 ruamel.yaml.clib-0.2.7\n"
          ]
        }
      ],
      "source": [
        "# install pyradiomics\n",
        "! pip install pyradiomics"
      ]
    },
    {
      "cell_type": "code",
      "source": [
        "# imports \n",
        "import pandas as pd\n",
        "import os  \n",
        "from radiomics import featureextractor\n",
        "\n",
        "# google drive is mounted in collab"
      ],
      "metadata": {
        "id": "AXLaTYq0Eikk"
      },
      "execution_count": 2,
      "outputs": []
    },
    {
      "cell_type": "markdown",
      "source": [
        "#### Task 1 : Extract Pyradiomics Features\n",
        " "
      ],
      "metadata": {
        "id": "lrI79Md2q2Xe"
      }
    },
    {
      "cell_type": "code",
      "source": [
        "# set the start directory \n",
        "rootDir = '/content/drive/MyDrive/HIDS509/Image-Data'\n",
        "\n",
        "# assign feature exctractor \n",
        "extractor = featureextractor.RadiomicsFeatureExtractor()\n",
        "\n",
        "# create an empty DataFrame to store the extracted features\n",
        "feature_df = pd.DataFrame()\n",
        "\n",
        "# loop through each directory in the root directory\n",
        "for dirName, subdirList, fileList in os.walk(rootDir):\n",
        "    # if there is an image and label file in the directory assign image or label path\n",
        "    imagePath = None\n",
        "    labelPath = None\n",
        "    # for file in fileList, do something\n",
        "    for fname in fileList:\n",
        "      # check file name (image or label) and assign path to appropriate variable for each image in root folder\n",
        "        if fname.endswith('_image.nii.gz'):\n",
        "            imagePath = os.path.join(dirName, fname)\n",
        "            print('imagePath:' + imagePath)\n",
        "        elif fname.endswith('_label.nii.gz'):\n",
        "            labelPath = os.path.join(dirName, fname)\n",
        "            print('labelPath:' + labelPath)\n",
        "    \n",
        "    # extract features from the image and label\n",
        "    if imagePath and labelPath:\n",
        "        result = extractor.execute(imagePath, labelPath)\n",
        "        # turning result into series to concat into a dataframe\n",
        "        result_series = pd.Series(result)\n",
        "        # append the features to DataFrame\n",
        "        feature_df = feature_df.append(result_series, ignore_index=True)\n"
      ],
      "metadata": {
        "colab": {
          "base_uri": "https://localhost:8080/"
        },
        "id": "HY3rmHz3wtC_",
        "outputId": "4e1fcf52-ed1b-4a60-cca5-f33f4f3906db"
      },
      "execution_count": 3,
      "outputs": [
        {
          "output_type": "stream",
          "name": "stderr",
          "text": [
            "INFO:radiomics.featureextractor:No valid config parameter, using defaults: {'minimumROIDimensions': 2, 'minimumROISize': None, 'normalize': False, 'normalizeScale': 1, 'removeOutliers': None, 'resampledPixelSpacing': None, 'interpolator': 'sitkBSpline', 'preCrop': False, 'padDistance': 5, 'distances': [1], 'force2D': False, 'force2Ddimension': 0, 'resegmentRange': None, 'label': 1, 'additionalInfo': True}\n",
            "INFO:radiomics.featureextractor:Enabled image types: {'Original': {}}\n",
            "INFO:radiomics.featureextractor:Enabled features: {'firstorder': [], 'glcm': [], 'gldm': [], 'glrlm': [], 'glszm': [], 'ngtdm': [], 'shape': []}\n",
            "INFO:radiomics.featureextractor:Calculating features with label: 1\n",
            "INFO:radiomics.featureextractor:Loading image and mask\n"
          ]
        },
        {
          "output_type": "stream",
          "name": "stdout",
          "text": [
            "labelPath:/content/drive/MyDrive/HIDS509/Image-Data/HF1553_1995.06.10/HF1553_1995.06.10_GlistrBoost_out_label.nii.gz\n",
            "imagePath:/content/drive/MyDrive/HIDS509/Image-Data/HF1553_1995.06.10/HF1553_image.nii.gz\n"
          ]
        },
        {
          "output_type": "stream",
          "name": "stderr",
          "text": [
            "INFO:radiomics.featureextractor:Computing shape\n",
            "INFO:radiomics.featureextractor:Adding image type \"Original\" with custom settings: {}\n",
            "INFO:radiomics.featureextractor:Calculating features for original image\n",
            "INFO:radiomics.featureextractor:Computing firstorder\n",
            "INFO:radiomics.featureextractor:Computing glcm\n",
            "GLCM is symmetrical, therefore Sum Average = 2 * Joint Average, only 1 needs to be calculated\n",
            "WARNING:radiomics.glcm:GLCM is symmetrical, therefore Sum Average = 2 * Joint Average, only 1 needs to be calculated\n",
            "INFO:radiomics.featureextractor:Computing gldm\n",
            "INFO:radiomics.featureextractor:Computing glrlm\n",
            "INFO:radiomics.featureextractor:Computing glszm\n",
            "INFO:radiomics.featureextractor:Computing ngtdm\n",
            "<ipython-input-3-767dbac96c7b>:31: FutureWarning: The frame.append method is deprecated and will be removed from pandas in a future version. Use pandas.concat instead.\n",
            "  feature_df = feature_df.append(result_series, ignore_index=True)\n",
            "INFO:radiomics.featureextractor:Calculating features with label: 1\n",
            "INFO:radiomics.featureextractor:Loading image and mask\n"
          ]
        },
        {
          "output_type": "stream",
          "name": "stdout",
          "text": [
            "labelPath:/content/drive/MyDrive/HIDS509/Image-Data/HF1588_1995.08.19/HF1588_1995.08.19_GlistrBoost_out_label.nii.gz\n",
            "imagePath:/content/drive/MyDrive/HIDS509/Image-Data/HF1588_1995.08.19/HF1588_image.nii.gz\n"
          ]
        },
        {
          "output_type": "stream",
          "name": "stderr",
          "text": [
            "INFO:radiomics.featureextractor:Computing shape\n",
            "INFO:radiomics.featureextractor:Adding image type \"Original\" with custom settings: {}\n",
            "INFO:radiomics.featureextractor:Calculating features for original image\n",
            "INFO:radiomics.featureextractor:Computing firstorder\n",
            "INFO:radiomics.featureextractor:Computing glcm\n",
            "GLCM is symmetrical, therefore Sum Average = 2 * Joint Average, only 1 needs to be calculated\n",
            "WARNING:radiomics.glcm:GLCM is symmetrical, therefore Sum Average = 2 * Joint Average, only 1 needs to be calculated\n",
            "INFO:radiomics.featureextractor:Computing gldm\n",
            "INFO:radiomics.featureextractor:Computing glrlm\n",
            "INFO:radiomics.featureextractor:Computing glszm\n",
            "INFO:radiomics.featureextractor:Computing ngtdm\n",
            "<ipython-input-3-767dbac96c7b>:31: FutureWarning: The frame.append method is deprecated and will be removed from pandas in a future version. Use pandas.concat instead.\n",
            "  feature_df = feature_df.append(result_series, ignore_index=True)\n",
            "INFO:radiomics.featureextractor:Calculating features with label: 1\n",
            "INFO:radiomics.featureextractor:Loading image and mask\n"
          ]
        },
        {
          "output_type": "stream",
          "name": "stdout",
          "text": [
            "labelPath:/content/drive/MyDrive/HIDS509/Image-Data/HF1587_1995.08.18/HF1587_1995.08.18_GlistrBoost_out_label.nii.gz\n",
            "imagePath:/content/drive/MyDrive/HIDS509/Image-Data/HF1587_1995.08.18/HF1587_image.nii.gz\n"
          ]
        },
        {
          "output_type": "stream",
          "name": "stderr",
          "text": [
            "INFO:radiomics.featureextractor:Computing shape\n",
            "INFO:radiomics.featureextractor:Adding image type \"Original\" with custom settings: {}\n",
            "INFO:radiomics.featureextractor:Calculating features for original image\n",
            "INFO:radiomics.featureextractor:Computing firstorder\n",
            "INFO:radiomics.featureextractor:Computing glcm\n",
            "GLCM is symmetrical, therefore Sum Average = 2 * Joint Average, only 1 needs to be calculated\n",
            "WARNING:radiomics.glcm:GLCM is symmetrical, therefore Sum Average = 2 * Joint Average, only 1 needs to be calculated\n",
            "INFO:radiomics.featureextractor:Computing gldm\n",
            "INFO:radiomics.featureextractor:Computing glrlm\n",
            "INFO:radiomics.featureextractor:Computing glszm\n",
            "INFO:radiomics.featureextractor:Computing ngtdm\n",
            "<ipython-input-3-767dbac96c7b>:31: FutureWarning: The frame.append method is deprecated and will be removed from pandas in a future version. Use pandas.concat instead.\n",
            "  feature_df = feature_df.append(result_series, ignore_index=True)\n",
            "INFO:radiomics.featureextractor:Calculating features with label: 1\n",
            "INFO:radiomics.featureextractor:Loading image and mask\n"
          ]
        },
        {
          "output_type": "stream",
          "name": "stdout",
          "text": [
            "labelPath:/content/drive/MyDrive/HIDS509/Image-Data/HF1560_1995.06.18/HF1560_1995.06.18_GlistrBoost_out_label.nii.gz\n",
            "imagePath:/content/drive/MyDrive/HIDS509/Image-Data/HF1560_1995.06.18/HF1560_image.nii.gz\n"
          ]
        },
        {
          "output_type": "stream",
          "name": "stderr",
          "text": [
            "INFO:radiomics.featureextractor:Computing shape\n",
            "INFO:radiomics.featureextractor:Adding image type \"Original\" with custom settings: {}\n",
            "INFO:radiomics.featureextractor:Calculating features for original image\n",
            "INFO:radiomics.featureextractor:Computing firstorder\n",
            "INFO:radiomics.featureextractor:Computing glcm\n",
            "GLCM is symmetrical, therefore Sum Average = 2 * Joint Average, only 1 needs to be calculated\n",
            "WARNING:radiomics.glcm:GLCM is symmetrical, therefore Sum Average = 2 * Joint Average, only 1 needs to be calculated\n",
            "INFO:radiomics.featureextractor:Computing gldm\n",
            "INFO:radiomics.featureextractor:Computing glrlm\n",
            "INFO:radiomics.featureextractor:Computing glszm\n",
            "INFO:radiomics.featureextractor:Computing ngtdm\n",
            "<ipython-input-3-767dbac96c7b>:31: FutureWarning: The frame.append method is deprecated and will be removed from pandas in a future version. Use pandas.concat instead.\n",
            "  feature_df = feature_df.append(result_series, ignore_index=True)\n",
            "INFO:radiomics.featureextractor:Calculating features with label: 1\n",
            "INFO:radiomics.featureextractor:Loading image and mask\n"
          ]
        },
        {
          "output_type": "stream",
          "name": "stdout",
          "text": [
            "labelPath:/content/drive/MyDrive/HIDS509/Image-Data/HF1538_1995.05.20/HF1538_1995.05.20_GlistrBoost_out_label.nii.gz\n",
            "imagePath:/content/drive/MyDrive/HIDS509/Image-Data/HF1538_1995.05.20/HF1538_image.nii.gz\n"
          ]
        },
        {
          "output_type": "stream",
          "name": "stderr",
          "text": [
            "INFO:radiomics.featureextractor:Computing shape\n",
            "INFO:radiomics.featureextractor:Adding image type \"Original\" with custom settings: {}\n",
            "INFO:radiomics.featureextractor:Calculating features for original image\n",
            "INFO:radiomics.featureextractor:Computing firstorder\n",
            "INFO:radiomics.featureextractor:Computing glcm\n",
            "GLCM is symmetrical, therefore Sum Average = 2 * Joint Average, only 1 needs to be calculated\n",
            "WARNING:radiomics.glcm:GLCM is symmetrical, therefore Sum Average = 2 * Joint Average, only 1 needs to be calculated\n",
            "INFO:radiomics.featureextractor:Computing gldm\n",
            "INFO:radiomics.featureextractor:Computing glrlm\n",
            "INFO:radiomics.featureextractor:Computing glszm\n",
            "INFO:radiomics.featureextractor:Computing ngtdm\n",
            "<ipython-input-3-767dbac96c7b>:31: FutureWarning: The frame.append method is deprecated and will be removed from pandas in a future version. Use pandas.concat instead.\n",
            "  feature_df = feature_df.append(result_series, ignore_index=True)\n",
            "INFO:radiomics.featureextractor:Calculating features with label: 1\n",
            "INFO:radiomics.featureextractor:Loading image and mask\n"
          ]
        },
        {
          "output_type": "stream",
          "name": "stdout",
          "text": [
            "labelPath:/content/drive/MyDrive/HIDS509/Image-Data/HF1568_1995.07.01/HF1568_1995.07.01_GlistrBoost_out_label.nii.gz\n",
            "imagePath:/content/drive/MyDrive/HIDS509/Image-Data/HF1568_1995.07.01/HF1568_image.nii.gz\n"
          ]
        },
        {
          "output_type": "stream",
          "name": "stderr",
          "text": [
            "INFO:radiomics.featureextractor:Computing shape\n",
            "INFO:radiomics.featureextractor:Adding image type \"Original\" with custom settings: {}\n",
            "INFO:radiomics.featureextractor:Calculating features for original image\n",
            "INFO:radiomics.featureextractor:Computing firstorder\n",
            "INFO:radiomics.featureextractor:Computing glcm\n",
            "GLCM is symmetrical, therefore Sum Average = 2 * Joint Average, only 1 needs to be calculated\n",
            "WARNING:radiomics.glcm:GLCM is symmetrical, therefore Sum Average = 2 * Joint Average, only 1 needs to be calculated\n",
            "INFO:radiomics.featureextractor:Computing gldm\n",
            "INFO:radiomics.featureextractor:Computing glrlm\n",
            "INFO:radiomics.featureextractor:Computing glszm\n",
            "INFO:radiomics.featureextractor:Computing ngtdm\n",
            "<ipython-input-3-767dbac96c7b>:31: FutureWarning: The frame.append method is deprecated and will be removed from pandas in a future version. Use pandas.concat instead.\n",
            "  feature_df = feature_df.append(result_series, ignore_index=True)\n",
            "INFO:radiomics.featureextractor:Calculating features with label: 1\n",
            "INFO:radiomics.featureextractor:Loading image and mask\n"
          ]
        },
        {
          "output_type": "stream",
          "name": "stdout",
          "text": [
            "labelPath:/content/drive/MyDrive/HIDS509/Image-Data/HF1613_1995.10.20/HF1613_1995.10.20_GlistrBoost_out_label.nii.gz\n",
            "imagePath:/content/drive/MyDrive/HIDS509/Image-Data/HF1613_1995.10.20/HF1613_image.nii.gz\n"
          ]
        },
        {
          "output_type": "stream",
          "name": "stderr",
          "text": [
            "INFO:radiomics.featureextractor:Computing shape\n",
            "INFO:radiomics.featureextractor:Adding image type \"Original\" with custom settings: {}\n",
            "INFO:radiomics.featureextractor:Calculating features for original image\n",
            "INFO:radiomics.featureextractor:Computing firstorder\n",
            "INFO:radiomics.featureextractor:Computing glcm\n",
            "GLCM is symmetrical, therefore Sum Average = 2 * Joint Average, only 1 needs to be calculated\n",
            "WARNING:radiomics.glcm:GLCM is symmetrical, therefore Sum Average = 2 * Joint Average, only 1 needs to be calculated\n",
            "INFO:radiomics.featureextractor:Computing gldm\n",
            "INFO:radiomics.featureextractor:Computing glrlm\n",
            "INFO:radiomics.featureextractor:Computing glszm\n",
            "INFO:radiomics.featureextractor:Computing ngtdm\n",
            "<ipython-input-3-767dbac96c7b>:31: FutureWarning: The frame.append method is deprecated and will be removed from pandas in a future version. Use pandas.concat instead.\n",
            "  feature_df = feature_df.append(result_series, ignore_index=True)\n",
            "INFO:radiomics.featureextractor:Calculating features with label: 1\n",
            "INFO:radiomics.featureextractor:Loading image and mask\n"
          ]
        },
        {
          "output_type": "stream",
          "name": "stdout",
          "text": [
            "labelPath:/content/drive/MyDrive/HIDS509/Image-Data/HF1551_1995.06.16/HF1551_1995.06.16_GlistrBoost_out_label.nii.gz\n",
            "imagePath:/content/drive/MyDrive/HIDS509/Image-Data/HF1551_1995.06.16/HF1551_image.nii.gz\n"
          ]
        },
        {
          "output_type": "stream",
          "name": "stderr",
          "text": [
            "INFO:radiomics.featureextractor:Computing shape\n",
            "INFO:radiomics.featureextractor:Adding image type \"Original\" with custom settings: {}\n",
            "INFO:radiomics.featureextractor:Calculating features for original image\n",
            "INFO:radiomics.featureextractor:Computing firstorder\n",
            "INFO:radiomics.featureextractor:Computing glcm\n",
            "GLCM is symmetrical, therefore Sum Average = 2 * Joint Average, only 1 needs to be calculated\n",
            "WARNING:radiomics.glcm:GLCM is symmetrical, therefore Sum Average = 2 * Joint Average, only 1 needs to be calculated\n",
            "INFO:radiomics.featureextractor:Computing gldm\n",
            "INFO:radiomics.featureextractor:Computing glrlm\n",
            "INFO:radiomics.featureextractor:Computing glszm\n",
            "INFO:radiomics.featureextractor:Computing ngtdm\n",
            "<ipython-input-3-767dbac96c7b>:31: FutureWarning: The frame.append method is deprecated and will be removed from pandas in a future version. Use pandas.concat instead.\n",
            "  feature_df = feature_df.append(result_series, ignore_index=True)\n",
            "INFO:radiomics.featureextractor:Calculating features with label: 1\n",
            "INFO:radiomics.featureextractor:Loading image and mask\n"
          ]
        },
        {
          "output_type": "stream",
          "name": "stdout",
          "text": [
            "labelPath:/content/drive/MyDrive/HIDS509/Image-Data/HF1606_1995.10.06/HF1606_1995.10.06_GlistrBoost_out_label.nii.gz\n",
            "imagePath:/content/drive/MyDrive/HIDS509/Image-Data/HF1606_1995.10.06/HF1606_image.nii.gz\n"
          ]
        },
        {
          "output_type": "stream",
          "name": "stderr",
          "text": [
            "INFO:radiomics.featureextractor:Computing shape\n",
            "INFO:radiomics.featureextractor:Adding image type \"Original\" with custom settings: {}\n",
            "INFO:radiomics.featureextractor:Calculating features for original image\n",
            "INFO:radiomics.featureextractor:Computing firstorder\n",
            "INFO:radiomics.featureextractor:Computing glcm\n",
            "GLCM is symmetrical, therefore Sum Average = 2 * Joint Average, only 1 needs to be calculated\n",
            "WARNING:radiomics.glcm:GLCM is symmetrical, therefore Sum Average = 2 * Joint Average, only 1 needs to be calculated\n",
            "INFO:radiomics.featureextractor:Computing gldm\n",
            "INFO:radiomics.featureextractor:Computing glrlm\n",
            "INFO:radiomics.featureextractor:Computing glszm\n",
            "INFO:radiomics.featureextractor:Computing ngtdm\n",
            "<ipython-input-3-767dbac96c7b>:31: FutureWarning: The frame.append method is deprecated and will be removed from pandas in a future version. Use pandas.concat instead.\n",
            "  feature_df = feature_df.append(result_series, ignore_index=True)\n",
            "INFO:radiomics.featureextractor:Calculating features with label: 1\n",
            "INFO:radiomics.featureextractor:Loading image and mask\n"
          ]
        },
        {
          "output_type": "stream",
          "name": "stdout",
          "text": [
            "labelPath:/content/drive/MyDrive/HIDS509/Image-Data/HF1652_1995.12.22/HF1652_1995.12.22_GlistrBoost_out_label.nii.gz\n",
            "imagePath:/content/drive/MyDrive/HIDS509/Image-Data/HF1652_1995.12.22/HF1652_image.nii.gz\n"
          ]
        },
        {
          "output_type": "stream",
          "name": "stderr",
          "text": [
            "INFO:radiomics.featureextractor:Computing shape\n",
            "INFO:radiomics.featureextractor:Adding image type \"Original\" with custom settings: {}\n",
            "INFO:radiomics.featureextractor:Calculating features for original image\n",
            "INFO:radiomics.featureextractor:Computing firstorder\n",
            "INFO:radiomics.featureextractor:Computing glcm\n",
            "GLCM is symmetrical, therefore Sum Average = 2 * Joint Average, only 1 needs to be calculated\n",
            "WARNING:radiomics.glcm:GLCM is symmetrical, therefore Sum Average = 2 * Joint Average, only 1 needs to be calculated\n",
            "INFO:radiomics.featureextractor:Computing gldm\n",
            "INFO:radiomics.featureextractor:Computing glrlm\n",
            "INFO:radiomics.featureextractor:Computing glszm\n",
            "INFO:radiomics.featureextractor:Computing ngtdm\n",
            "<ipython-input-3-767dbac96c7b>:31: FutureWarning: The frame.append method is deprecated and will be removed from pandas in a future version. Use pandas.concat instead.\n",
            "  feature_df = feature_df.append(result_series, ignore_index=True)\n"
          ]
        }
      ]
    },
    {
      "cell_type": "code",
      "source": [
        "# visualizing feature dataframe\n",
        "feature_df.head()"
      ],
      "metadata": {
        "colab": {
          "base_uri": "https://localhost:8080/",
          "height": 399
        },
        "id": "MHfMt_8ewxaE",
        "outputId": "3ce4c63b-4c1e-4a80-e57e-9754df500330"
      },
      "execution_count": 4,
      "outputs": [
        {
          "output_type": "execute_result",
          "data": {
            "text/plain": [
              "  diagnostics_Versions_PyRadiomics diagnostics_Versions_Numpy  \\\n",
              "0                           v3.0.1                     1.22.4   \n",
              "1                           v3.0.1                     1.22.4   \n",
              "2                           v3.0.1                     1.22.4   \n",
              "3                           v3.0.1                     1.22.4   \n",
              "4                           v3.0.1                     1.22.4   \n",
              "\n",
              "  diagnostics_Versions_SimpleITK diagnostics_Versions_PyWavelet  \\\n",
              "0                          2.2.1                          1.4.1   \n",
              "1                          2.2.1                          1.4.1   \n",
              "2                          2.2.1                          1.4.1   \n",
              "3                          2.2.1                          1.4.1   \n",
              "4                          2.2.1                          1.4.1   \n",
              "\n",
              "  diagnostics_Versions_Python  \\\n",
              "0                      3.9.16   \n",
              "1                      3.9.16   \n",
              "2                      3.9.16   \n",
              "3                      3.9.16   \n",
              "4                      3.9.16   \n",
              "\n",
              "                  diagnostics_Configuration_Settings  \\\n",
              "0  {'minimumROIDimensions': 2, 'minimumROISize': ...   \n",
              "1  {'minimumROIDimensions': 2, 'minimumROISize': ...   \n",
              "2  {'minimumROIDimensions': 2, 'minimumROISize': ...   \n",
              "3  {'minimumROIDimensions': 2, 'minimumROISize': ...   \n",
              "4  {'minimumROIDimensions': 2, 'minimumROISize': ...   \n",
              "\n",
              "  diagnostics_Configuration_EnabledImageTypes  \\\n",
              "0                            {'Original': {}}   \n",
              "1                            {'Original': {}}   \n",
              "2                            {'Original': {}}   \n",
              "3                            {'Original': {}}   \n",
              "4                            {'Original': {}}   \n",
              "\n",
              "            diagnostics_Image-original_Hash  \\\n",
              "0  14dc004b59ecd8667a1d3d70adf4960a0c3d8661   \n",
              "1  21f275b79e71a9cb4b13222dfd1a1cbb71a75fa1   \n",
              "2  267ebab608383f24c9f7006aa9d8559c12bf0b34   \n",
              "3  69d69f263ea0b1f83ee18d638cc5965b701fe769   \n",
              "4  56b4564c5468212040d0dface3a3b45364014452   \n",
              "\n",
              "  diagnostics_Image-original_Dimensionality  \\\n",
              "0                                        3D   \n",
              "1                                        3D   \n",
              "2                                        3D   \n",
              "3                                        3D   \n",
              "4                                        3D   \n",
              "\n",
              "  diagnostics_Image-original_Spacing  ...  \\\n",
              "0                    (1.0, 1.0, 1.0)  ...   \n",
              "1                    (1.0, 1.0, 1.0)  ...   \n",
              "2                    (1.0, 1.0, 1.0)  ...   \n",
              "3                    (1.0, 1.0, 1.0)  ...   \n",
              "4                    (1.0, 1.0, 1.0)  ...   \n",
              "\n",
              "  original_glszm_SmallAreaHighGrayLevelEmphasis  \\\n",
              "0                             9.019547433379888   \n",
              "1                             12.68861999222061   \n",
              "2                            11.583435966504744   \n",
              "3                             33.08602649027552   \n",
              "4                            12.420126857672036   \n",
              "\n",
              "   original_glszm_SmallAreaLowGrayLevelEmphasis  original_glszm_ZoneEntropy  \\\n",
              "0                           0.07329975086209738           5.160923771836538   \n",
              "1                          0.039713559370790096          4.9071925181784675   \n",
              "2                           0.06805173141853643           4.100351995081202   \n",
              "3                          0.016299265688452608           5.624281766506604   \n",
              "4                          0.026001803529991138           5.095515963281475   \n",
              "\n",
              "   original_glszm_ZonePercentage original_glszm_ZoneVariance  \\\n",
              "0           0.010132329328387132           337933.0866851802   \n",
              "1           0.036212826218895405          37511.220124215855   \n",
              "2           0.009895133100295779           557790.1540347353   \n",
              "3            0.05810942052444157          25469.109558429875   \n",
              "4            0.04282329045362221           48835.09364308145   \n",
              "\n",
              "  original_ngtdm_Busyness original_ngtdm_Coarseness original_ngtdm_Complexity  \\\n",
              "0        36.2107857292756     0.0008698839217347219        11.090819397299185   \n",
              "1       9.968936416821709      0.002216858278824978         7.131312217311772   \n",
              "2       46.57043536837716     0.0007088214994370703        5.7841582542469325   \n",
              "3       8.090528061876835      0.000937867610307643        27.205025374003323   \n",
              "4       26.14867989878197     0.0009228091557252781         6.296231070578894   \n",
              "\n",
              "   original_ngtdm_Contrast  original_ngtdm_Strength  \n",
              "0     0.009635071241444594      0.04276790116640056  \n",
              "1     0.009839078312969906      0.05749803267147264  \n",
              "2     0.010826552416625276     0.014092436375767547  \n",
              "3      0.00894667704155672      0.07346518430582324  \n",
              "4     0.008281423686203968      0.02149982061686106  \n",
              "\n",
              "[5 rows x 129 columns]"
            ],
            "text/html": [
              "\n",
              "  <div id=\"df-c8676bd5-72a9-478a-b073-162a8bbd49b0\">\n",
              "    <div class=\"colab-df-container\">\n",
              "      <div>\n",
              "<style scoped>\n",
              "    .dataframe tbody tr th:only-of-type {\n",
              "        vertical-align: middle;\n",
              "    }\n",
              "\n",
              "    .dataframe tbody tr th {\n",
              "        vertical-align: top;\n",
              "    }\n",
              "\n",
              "    .dataframe thead th {\n",
              "        text-align: right;\n",
              "    }\n",
              "</style>\n",
              "<table border=\"1\" class=\"dataframe\">\n",
              "  <thead>\n",
              "    <tr style=\"text-align: right;\">\n",
              "      <th></th>\n",
              "      <th>diagnostics_Versions_PyRadiomics</th>\n",
              "      <th>diagnostics_Versions_Numpy</th>\n",
              "      <th>diagnostics_Versions_SimpleITK</th>\n",
              "      <th>diagnostics_Versions_PyWavelet</th>\n",
              "      <th>diagnostics_Versions_Python</th>\n",
              "      <th>diagnostics_Configuration_Settings</th>\n",
              "      <th>diagnostics_Configuration_EnabledImageTypes</th>\n",
              "      <th>diagnostics_Image-original_Hash</th>\n",
              "      <th>diagnostics_Image-original_Dimensionality</th>\n",
              "      <th>diagnostics_Image-original_Spacing</th>\n",
              "      <th>...</th>\n",
              "      <th>original_glszm_SmallAreaHighGrayLevelEmphasis</th>\n",
              "      <th>original_glszm_SmallAreaLowGrayLevelEmphasis</th>\n",
              "      <th>original_glszm_ZoneEntropy</th>\n",
              "      <th>original_glszm_ZonePercentage</th>\n",
              "      <th>original_glszm_ZoneVariance</th>\n",
              "      <th>original_ngtdm_Busyness</th>\n",
              "      <th>original_ngtdm_Coarseness</th>\n",
              "      <th>original_ngtdm_Complexity</th>\n",
              "      <th>original_ngtdm_Contrast</th>\n",
              "      <th>original_ngtdm_Strength</th>\n",
              "    </tr>\n",
              "  </thead>\n",
              "  <tbody>\n",
              "    <tr>\n",
              "      <th>0</th>\n",
              "      <td>v3.0.1</td>\n",
              "      <td>1.22.4</td>\n",
              "      <td>2.2.1</td>\n",
              "      <td>1.4.1</td>\n",
              "      <td>3.9.16</td>\n",
              "      <td>{'minimumROIDimensions': 2, 'minimumROISize': ...</td>\n",
              "      <td>{'Original': {}}</td>\n",
              "      <td>14dc004b59ecd8667a1d3d70adf4960a0c3d8661</td>\n",
              "      <td>3D</td>\n",
              "      <td>(1.0, 1.0, 1.0)</td>\n",
              "      <td>...</td>\n",
              "      <td>9.019547433379888</td>\n",
              "      <td>0.07329975086209738</td>\n",
              "      <td>5.160923771836538</td>\n",
              "      <td>0.010132329328387132</td>\n",
              "      <td>337933.0866851802</td>\n",
              "      <td>36.2107857292756</td>\n",
              "      <td>0.0008698839217347219</td>\n",
              "      <td>11.090819397299185</td>\n",
              "      <td>0.009635071241444594</td>\n",
              "      <td>0.04276790116640056</td>\n",
              "    </tr>\n",
              "    <tr>\n",
              "      <th>1</th>\n",
              "      <td>v3.0.1</td>\n",
              "      <td>1.22.4</td>\n",
              "      <td>2.2.1</td>\n",
              "      <td>1.4.1</td>\n",
              "      <td>3.9.16</td>\n",
              "      <td>{'minimumROIDimensions': 2, 'minimumROISize': ...</td>\n",
              "      <td>{'Original': {}}</td>\n",
              "      <td>21f275b79e71a9cb4b13222dfd1a1cbb71a75fa1</td>\n",
              "      <td>3D</td>\n",
              "      <td>(1.0, 1.0, 1.0)</td>\n",
              "      <td>...</td>\n",
              "      <td>12.68861999222061</td>\n",
              "      <td>0.039713559370790096</td>\n",
              "      <td>4.9071925181784675</td>\n",
              "      <td>0.036212826218895405</td>\n",
              "      <td>37511.220124215855</td>\n",
              "      <td>9.968936416821709</td>\n",
              "      <td>0.002216858278824978</td>\n",
              "      <td>7.131312217311772</td>\n",
              "      <td>0.009839078312969906</td>\n",
              "      <td>0.05749803267147264</td>\n",
              "    </tr>\n",
              "    <tr>\n",
              "      <th>2</th>\n",
              "      <td>v3.0.1</td>\n",
              "      <td>1.22.4</td>\n",
              "      <td>2.2.1</td>\n",
              "      <td>1.4.1</td>\n",
              "      <td>3.9.16</td>\n",
              "      <td>{'minimumROIDimensions': 2, 'minimumROISize': ...</td>\n",
              "      <td>{'Original': {}}</td>\n",
              "      <td>267ebab608383f24c9f7006aa9d8559c12bf0b34</td>\n",
              "      <td>3D</td>\n",
              "      <td>(1.0, 1.0, 1.0)</td>\n",
              "      <td>...</td>\n",
              "      <td>11.583435966504744</td>\n",
              "      <td>0.06805173141853643</td>\n",
              "      <td>4.100351995081202</td>\n",
              "      <td>0.009895133100295779</td>\n",
              "      <td>557790.1540347353</td>\n",
              "      <td>46.57043536837716</td>\n",
              "      <td>0.0007088214994370703</td>\n",
              "      <td>5.7841582542469325</td>\n",
              "      <td>0.010826552416625276</td>\n",
              "      <td>0.014092436375767547</td>\n",
              "    </tr>\n",
              "    <tr>\n",
              "      <th>3</th>\n",
              "      <td>v3.0.1</td>\n",
              "      <td>1.22.4</td>\n",
              "      <td>2.2.1</td>\n",
              "      <td>1.4.1</td>\n",
              "      <td>3.9.16</td>\n",
              "      <td>{'minimumROIDimensions': 2, 'minimumROISize': ...</td>\n",
              "      <td>{'Original': {}}</td>\n",
              "      <td>69d69f263ea0b1f83ee18d638cc5965b701fe769</td>\n",
              "      <td>3D</td>\n",
              "      <td>(1.0, 1.0, 1.0)</td>\n",
              "      <td>...</td>\n",
              "      <td>33.08602649027552</td>\n",
              "      <td>0.016299265688452608</td>\n",
              "      <td>5.624281766506604</td>\n",
              "      <td>0.05810942052444157</td>\n",
              "      <td>25469.109558429875</td>\n",
              "      <td>8.090528061876835</td>\n",
              "      <td>0.000937867610307643</td>\n",
              "      <td>27.205025374003323</td>\n",
              "      <td>0.00894667704155672</td>\n",
              "      <td>0.07346518430582324</td>\n",
              "    </tr>\n",
              "    <tr>\n",
              "      <th>4</th>\n",
              "      <td>v3.0.1</td>\n",
              "      <td>1.22.4</td>\n",
              "      <td>2.2.1</td>\n",
              "      <td>1.4.1</td>\n",
              "      <td>3.9.16</td>\n",
              "      <td>{'minimumROIDimensions': 2, 'minimumROISize': ...</td>\n",
              "      <td>{'Original': {}}</td>\n",
              "      <td>56b4564c5468212040d0dface3a3b45364014452</td>\n",
              "      <td>3D</td>\n",
              "      <td>(1.0, 1.0, 1.0)</td>\n",
              "      <td>...</td>\n",
              "      <td>12.420126857672036</td>\n",
              "      <td>0.026001803529991138</td>\n",
              "      <td>5.095515963281475</td>\n",
              "      <td>0.04282329045362221</td>\n",
              "      <td>48835.09364308145</td>\n",
              "      <td>26.14867989878197</td>\n",
              "      <td>0.0009228091557252781</td>\n",
              "      <td>6.296231070578894</td>\n",
              "      <td>0.008281423686203968</td>\n",
              "      <td>0.02149982061686106</td>\n",
              "    </tr>\n",
              "  </tbody>\n",
              "</table>\n",
              "<p>5 rows × 129 columns</p>\n",
              "</div>\n",
              "      <button class=\"colab-df-convert\" onclick=\"convertToInteractive('df-c8676bd5-72a9-478a-b073-162a8bbd49b0')\"\n",
              "              title=\"Convert this dataframe to an interactive table.\"\n",
              "              style=\"display:none;\">\n",
              "        \n",
              "  <svg xmlns=\"http://www.w3.org/2000/svg\" height=\"24px\"viewBox=\"0 0 24 24\"\n",
              "       width=\"24px\">\n",
              "    <path d=\"M0 0h24v24H0V0z\" fill=\"none\"/>\n",
              "    <path d=\"M18.56 5.44l.94 2.06.94-2.06 2.06-.94-2.06-.94-.94-2.06-.94 2.06-2.06.94zm-11 1L8.5 8.5l.94-2.06 2.06-.94-2.06-.94L8.5 2.5l-.94 2.06-2.06.94zm10 10l.94 2.06.94-2.06 2.06-.94-2.06-.94-.94-2.06-.94 2.06-2.06.94z\"/><path d=\"M17.41 7.96l-1.37-1.37c-.4-.4-.92-.59-1.43-.59-.52 0-1.04.2-1.43.59L10.3 9.45l-7.72 7.72c-.78.78-.78 2.05 0 2.83L4 21.41c.39.39.9.59 1.41.59.51 0 1.02-.2 1.41-.59l7.78-7.78 2.81-2.81c.8-.78.8-2.07 0-2.86zM5.41 20L4 18.59l7.72-7.72 1.47 1.35L5.41 20z\"/>\n",
              "  </svg>\n",
              "      </button>\n",
              "      \n",
              "  <style>\n",
              "    .colab-df-container {\n",
              "      display:flex;\n",
              "      flex-wrap:wrap;\n",
              "      gap: 12px;\n",
              "    }\n",
              "\n",
              "    .colab-df-convert {\n",
              "      background-color: #E8F0FE;\n",
              "      border: none;\n",
              "      border-radius: 50%;\n",
              "      cursor: pointer;\n",
              "      display: none;\n",
              "      fill: #1967D2;\n",
              "      height: 32px;\n",
              "      padding: 0 0 0 0;\n",
              "      width: 32px;\n",
              "    }\n",
              "\n",
              "    .colab-df-convert:hover {\n",
              "      background-color: #E2EBFA;\n",
              "      box-shadow: 0px 1px 2px rgba(60, 64, 67, 0.3), 0px 1px 3px 1px rgba(60, 64, 67, 0.15);\n",
              "      fill: #174EA6;\n",
              "    }\n",
              "\n",
              "    [theme=dark] .colab-df-convert {\n",
              "      background-color: #3B4455;\n",
              "      fill: #D2E3FC;\n",
              "    }\n",
              "\n",
              "    [theme=dark] .colab-df-convert:hover {\n",
              "      background-color: #434B5C;\n",
              "      box-shadow: 0px 1px 3px 1px rgba(0, 0, 0, 0.15);\n",
              "      filter: drop-shadow(0px 1px 2px rgba(0, 0, 0, 0.3));\n",
              "      fill: #FFFFFF;\n",
              "    }\n",
              "  </style>\n",
              "\n",
              "      <script>\n",
              "        const buttonEl =\n",
              "          document.querySelector('#df-c8676bd5-72a9-478a-b073-162a8bbd49b0 button.colab-df-convert');\n",
              "        buttonEl.style.display =\n",
              "          google.colab.kernel.accessAllowed ? 'block' : 'none';\n",
              "\n",
              "        async function convertToInteractive(key) {\n",
              "          const element = document.querySelector('#df-c8676bd5-72a9-478a-b073-162a8bbd49b0');\n",
              "          const dataTable =\n",
              "            await google.colab.kernel.invokeFunction('convertToInteractive',\n",
              "                                                     [key], {});\n",
              "          if (!dataTable) return;\n",
              "\n",
              "          const docLinkHtml = 'Like what you see? Visit the ' +\n",
              "            '<a target=\"_blank\" href=https://colab.research.google.com/notebooks/data_table.ipynb>data table notebook</a>'\n",
              "            + ' to learn more about interactive tables.';\n",
              "          element.innerHTML = '';\n",
              "          dataTable['output_type'] = 'display_data';\n",
              "          await google.colab.output.renderOutput(dataTable, element);\n",
              "          const docLink = document.createElement('div');\n",
              "          docLink.innerHTML = docLinkHtml;\n",
              "          element.appendChild(docLink);\n",
              "        }\n",
              "      </script>\n",
              "    </div>\n",
              "  </div>\n",
              "  "
            ]
          },
          "metadata": {},
          "execution_count": 4
        }
      ]
    },
    {
      "cell_type": "code",
      "source": [
        "# save feature dataframe to a CSV file\n",
        "feature_df.to_csv('pyradiomics_features.csv', index=False)"
      ],
      "metadata": {
        "id": "uw0OERGtBUYE"
      },
      "execution_count": 5,
      "outputs": []
    },
    {
      "cell_type": "markdown",
      "source": [
        "## Task 2: (Bonus – optional) "
      ],
      "metadata": {
        "id": "WUmS_n93vyrg"
      }
    },
    {
      "cell_type": "markdown",
      "source": [
        "1. Describe how would you use this multi- patient Pyradiomics feature matrix and Machine Learning to build a predictive model for brain cancer\n",
        "\n",
        "Machine Learning algorithms are useful for predictive analysis to drive data-informed decisions and recommendations based on input data. First, image data for selected brain cancer patients would be collected and processed (normalized/cleaned). After collecting the data, feature extraction for the ML algorithm will be preformed using Pyradiomics. This will create a multi-patient Pyradiomics feature matrix, which will include a set of quantitative features describing the tumor’s shape, size, texture, and intensity of the image (voxels). Once the features are extracted, I would perform data preprocessing techniques such as scaling, normalization, and handling missing/NA values. This step is essential as it can significantly impact the model's performance. \n",
        "\n",
        "After data pre-processing, I would find feature significance (possibly using xgboost and random forest) to evaluate feature importance and identify the most relevant features to use in my model. After selecting the relevant features, I would use machine learning algorithms such as Random Forest, Support Vector Machines, and/or Gradient Boosting to train a predictive ML model. Input data will be split into training and testing sets. Once the model is trained, I would evaluate its performance using metrics such as accuracy, precision/recall, and F1 score. Once the model's performance is satisfactory, I could deploy it to a clinical setting, where it can be used to predict brain cancer diagnosis/prognosis in patients. Another application would be to monitor disease progression and response to treatment for brain cancer patients.\n",
        "\n"
      ],
      "metadata": {
        "id": "B4yXtu1vwAKY"
      }
    }
  ]
}